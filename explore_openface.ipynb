{
 "cells": [
  {
   "cell_type": "markdown",
   "id": "73bfdff0-63a5-4dfe-9cc8-586d64a251be",
   "metadata": {},
   "source": [
    "# Explore OpenFace\n",
    "\n",
    "This notebook will explore how [OpenFace](https://github.com/TadasBaltrusaitis/OpenFace) can be used to extract action unit features from faces in video files. To run the notebook, **Docker** needs to be installed on the computer and added to the system path. Furthermore, the libraries in the `requirements.txt` file need to be installed. \n",
    "\n",
    "Several stock videos will be downloaded as test cases to investigate the feature extraction for **one**, **two**, and **multiple** (>2) faces displayed in a video. The videos are stored in the `/video` directory."
   ]
  },
  {
   "cell_type": "code",
   "execution_count": 1,
   "id": "34bf09b0-c47b-4769-8cae-df1d331a4f9e",
   "metadata": {},
   "outputs": [],
   "source": [
    "\"\"\" Explore OpenFace \"\"\"\n",
    "\n",
    "from urllib.request import urlopen, Request\n",
    "import subprocess\n",
    "import os\n",
    "import IPython\n",
    "import docker\n",
    "import pandas as pd\n",
    "\n",
    "client = docker.from_env()"
   ]
  },
  {
   "cell_type": "code",
   "execution_count": 2,
   "id": "63c45bdf-76a6-4a27-abce-87854c805dde",
   "metadata": {},
   "outputs": [],
   "source": [
    "def check_dir_exists(filename):\n",
    "    \"\"\" Create file directory if it does not exist \"\"\"\n",
    "    dir = \"\".join(filename.split(\"/\")[:-1])\n",
    "    if not os.path.exists(dir):\n",
    "        os.system(f\"mkdir {dir}\")\n",
    "        print(f\"Created directory /{dir}\")"
   ]
  },
  {
   "cell_type": "code",
   "execution_count": 3,
   "id": "c2f5ca49-20e0-4189-9914-2825b70ad41e",
   "metadata": {},
   "outputs": [],
   "source": [
    "def download_file_url(url, filename):\n",
    "    \"\"\" Download file from url if it does not exist \"\"\"\n",
    "    if not os.path.exists(filename):\n",
    "        check_dir_exists(filename)\n",
    "        req = Request(url, headers={\"User-Agent\": \"Mozilla/5.0\"})\n",
    "        file = urlopen(req)\n",
    "        \n",
    "        print(f\"Downloaded file from {url}\")\n",
    "\n",
    "        with open(filename, \"wb\") as f:\n",
    "            f.write(file.read())\n",
    "\n",
    "        print(f\"Saved file to {filename}\")\n",
    "    else:\n",
    "        print(f\"File found at {filename}\")"
   ]
  },
  {
   "cell_type": "markdown",
   "id": "e397b9e1-1f2a-4078-8275-4a6c977cb18b",
   "metadata": {},
   "source": [
    "## Using OpenFace with Docker\n",
    "\n",
    "To run OpenFace in docker, we pull the docker image and run the container as an interactive session that is detached. This allows copying files into the container while running. Then, the feature extraction is performed inside the container and results are copied out of the container before it is closed and removed. \n",
    "\n",
    "### Single Face in Video"
   ]
  },
  {
   "cell_type": "code",
   "execution_count": 4,
   "id": "dce4284a-fe32-4175-8717-76702746d12e",
   "metadata": {},
   "outputs": [],
   "source": [
    "def extract_features_video_docker(client, filename, logfilename):\n",
    "    \"\"\" \n",
    "    Extracts openface features from a single face in a video file using a docker container. \n",
    "    Copies video file into the openface docker container.\n",
    "    Extracts openface features in docker container.\n",
    "    Saves openface log to a logfile.\n",
    "    Copies results (processed files) back to working directory. \n",
    "    \"\"\"\n",
    "    container = client.containers.run(\"algebr/openface:latest\", name=\"openface\", stdin_open=True, tty=True, remove=True, detach=True)\n",
    "    print(\"Started docker container\")\n",
    "    \n",
    "    with open(logfilename, \"wb\") as logfile:\n",
    "        subprocess.run(f\"docker cp {filename} openface:/home/openface-build\", shell=True)\n",
    "        print(\"Copied file to docker container\")\n",
    "        _, output = container.exec_run(f\"build/bin/FeatureExtraction -f {filename.split('/')[-1]}\")\n",
    "        print(\"Extracted openface features\")\n",
    "        subprocess.run(\"docker cp openface:/home/openface-build/processed .\", shell=True)\n",
    "        print(\"Copied results from docker container to /processed\")\n",
    "        logfile.write(output)\n",
    "        \n",
    "    container.stop()\n",
    "    print(\"Stopped docker container\")"
   ]
  },
  {
   "cell_type": "code",
   "execution_count": 5,
   "id": "1802bcdf-20cb-4863-9b0f-45bd550475b9",
   "metadata": {},
   "outputs": [
    {
     "name": "stdout",
     "output_type": "stream",
     "text": [
      "File found at video/test_video_single.mp4\n"
     ]
    }
   ],
   "source": [
    "download_file_url(\"https://www.pexels.com/video/6173219/download/?search_query=&tracking_id=fnzpvugz2cj\", \"video/test_video_single.mp4\")"
   ]
  },
  {
   "cell_type": "code",
   "execution_count": 6,
   "id": "b1ec3352-8014-49f9-9895-ea3fb08687dc",
   "metadata": {},
   "outputs": [
    {
     "name": "stdout",
     "output_type": "stream",
     "text": [
      "Started docker container\n",
      "Copied file to docker container\n",
      "Extracted openface features\n",
      "Copied results from docker container to /processed\n",
      "Stopped docker container\n"
     ]
    }
   ],
   "source": [
    "extract_features_video_docker(client, \"video/test_video_single.mp4\", \"test_video_single.log\")"
   ]
  },
  {
   "cell_type": "markdown",
   "id": "48d97496-86c8-43ef-ab4a-4b66c598b7d5",
   "metadata": {},
   "source": [
    "The results from OpenFace are stored in the `/processed` directory. It contains the video file `test_video_single.avi` which is overlayed with the extracted facial features (not only action units). The face tracking and feature extraction seems to perform well for a single face which is directed to a point next to the camera. "
   ]
  },
  {
   "cell_type": "code",
   "execution_count": 20,
   "id": "b4096a2a-0ba2-4542-957e-b708f7cebe17",
   "metadata": {},
   "outputs": [
    {
     "data": {
      "text/html": [
       "<video src=\"video/test_video_single.mp4\" controls  >\n",
       "      Your browser does not support the <code>video</code> element.\n",
       "    </video>"
      ],
      "text/plain": [
       "<IPython.core.display.Video object>"
      ]
     },
     "execution_count": 20,
     "metadata": {},
     "output_type": "execute_result"
    }
   ],
   "source": [
    "IPython.display.Video(\"processed/test_video_single.mp4\")"
   ]
  },
  {
   "cell_type": "markdown",
   "id": "8ad414b2-c0d2-45b2-a20a-6c5e36937812",
   "metadata": {},
   "source": [
    "The directory also contains the extracted features in the file `test_video_single.csv`:"
   ]
  },
  {
   "cell_type": "code",
   "execution_count": 8,
   "id": "a65d393f-54fe-45bd-8acd-3c4330963ffc",
   "metadata": {},
   "outputs": [],
   "source": [
    "features_single_df = pd.read_csv(\"processed/test_video_single.csv\")"
   ]
  },
  {
   "cell_type": "code",
   "execution_count": 9,
   "id": "99d7ea92-da9b-4243-9a85-b66cfc664978",
   "metadata": {},
   "outputs": [
    {
     "name": "stdout",
     "output_type": "stream",
     "text": [
      "     frame   face_id   timestamp   confidence   success   gaze_0_x   gaze_0_y  \\\n",
      "0        1         0       0.000         0.98         1  -0.531649   0.133721   \n",
      "1        2         0       0.033         0.98         1  -0.542727   0.216815   \n",
      "2        3         0       0.067         0.98         1  -0.525011   0.207253   \n",
      "3        4         0       0.100         0.98         1  -0.527497   0.217476   \n",
      "4        5         0       0.133         0.98         1  -0.517876   0.212282   \n",
      "..     ...       ...         ...          ...       ...        ...        ...   \n",
      "588    589         0      19.600         0.98         1  -0.431405   0.223384   \n",
      "589    590         0      19.633         0.98         1  -0.425573   0.200113   \n",
      "590    591         0      19.667         0.98         1  -0.430954   0.210013   \n",
      "591    592         0      19.700         0.98         1  -0.430658   0.195615   \n",
      "592    593         0      19.733         0.98         1  -0.420955   0.197427   \n",
      "\n",
      "      gaze_0_z   gaze_1_x   gaze_1_y  ...   AU12_c   AU14_c   AU15_c   AU17_c  \\\n",
      "0    -0.836342  -0.696055   0.146401  ...      0.0      1.0      1.0      0.0   \n",
      "1    -0.811442  -0.695073   0.178749  ...      0.0      1.0      1.0      1.0   \n",
      "2    -0.825475  -0.669639   0.200263  ...      0.0      1.0      1.0      1.0   \n",
      "3    -0.821249  -0.664412   0.198743  ...      0.0      1.0      1.0      0.0   \n",
      "4    -0.828698  -0.670535   0.170425  ...      1.0      1.0      1.0      1.0   \n",
      "..         ...        ...        ...  ...      ...      ...      ...      ...   \n",
      "588  -0.874065  -0.542094   0.192074  ...      0.0      0.0      0.0      0.0   \n",
      "589  -0.882520  -0.547241   0.177323  ...      0.0      0.0      0.0      0.0   \n",
      "590  -0.877595  -0.532566   0.187221  ...      0.0      0.0      0.0      0.0   \n",
      "591  -0.881061  -0.524366   0.174143  ...      1.0      0.0      1.0      0.0   \n",
      "592  -0.885336  -0.526713   0.168521  ...      1.0      0.0      1.0      0.0   \n",
      "\n",
      "      AU20_c   AU23_c   AU25_c   AU26_c   AU28_c   AU45_c  \n",
      "0        1.0      0.0      0.0      0.0      0.0      0.0  \n",
      "1        0.0      0.0      0.0      0.0      0.0      0.0  \n",
      "2        0.0      0.0      0.0      0.0      0.0      0.0  \n",
      "3        0.0      0.0      0.0      0.0      0.0      0.0  \n",
      "4        0.0      0.0      0.0      0.0      0.0      0.0  \n",
      "..       ...      ...      ...      ...      ...      ...  \n",
      "588      1.0      0.0      1.0      1.0      0.0      0.0  \n",
      "589      1.0      1.0      1.0      1.0      0.0      0.0  \n",
      "590      1.0      1.0      1.0      1.0      0.0      0.0  \n",
      "591      1.0      1.0      1.0      1.0      0.0      0.0  \n",
      "592      1.0      1.0      1.0      1.0      0.0      0.0  \n",
      "\n",
      "[593 rows x 714 columns]\n"
     ]
    }
   ],
   "source": [
    "print(features_single_df)"
   ]
  },
  {
   "cell_type": "markdown",
   "id": "0a9d8c07-713b-4fcb-81ad-aa799228cb04",
   "metadata": {},
   "source": [
    "The data frame contains many columns for the extracted facial features including the action units (`AUXX_x`). The columns with `_c` appended to the name indicate whether the action unit is present (0/1) and the ones with `_r` indicate the intensity of the unit if present (scale 1 to 5). Because there is only one face present in the video, the `face_id` column only contains a single index (0).\n",
    "\n",
    "### Two Faces in Video"
   ]
  },
  {
   "cell_type": "code",
   "execution_count": 10,
   "id": "56faece5-5e37-4206-8f69-ae1c1b76dc61",
   "metadata": {},
   "outputs": [],
   "source": [
    "def extract_features_video_multi_docker(client, filename, logfilename):\n",
    "    \"\"\" \n",
    "    Extracts openface features from multiple faces in a video file using a docker container. \n",
    "    Copies video file into the openface docker container.\n",
    "    Extracts openface features in docker container.\n",
    "    Saves openface log to a logfile.\n",
    "    Copies results (processed files) back to working directory. \n",
    "    \"\"\"\n",
    "    container = client.containers.run(\"algebr/openface:latest\", name=\"openface\", stdin_open=True, tty=True, remove=True, detach=True)\n",
    "    print(\"Started docker container\")\n",
    "    \n",
    "    with open(logfilename, \"wb\") as logfile:\n",
    "        subprocess.run(f\"docker cp {filename} openface:/home/openface-build\", shell=True)\n",
    "        print(\"Copied file to docker container\")\n",
    "        _, output = container.exec_run(f\"build/bin/FaceLandmarkVidMulti -f {filename.split('/')[-1]}\")\n",
    "        print(\"Extracted openface features\")\n",
    "        subprocess.run(\"docker cp openface:/home/openface-build/processed .\", shell=True)\n",
    "        print(\"Copied results from docker container to /processed\")\n",
    "        logfile.write(output)\n",
    "        \n",
    "    container.stop()\n",
    "    print(\"Stopped docker container\")"
   ]
  },
  {
   "cell_type": "code",
   "execution_count": 11,
   "id": "a5fc692a-2f86-4562-92dd-9a5d94b462d9",
   "metadata": {},
   "outputs": [
    {
     "name": "stdout",
     "output_type": "stream",
     "text": [
      "File found at video/test_video_two.mp4\n"
     ]
    }
   ],
   "source": [
    "download_file_url(\"https://www.pexels.com/video/8847983/download/?search_query=political%20debate&tracking_id=fnzpvugz2cj\", \"video/test_video_two.mp4\")"
   ]
  },
  {
   "cell_type": "code",
   "execution_count": 12,
   "id": "ae6b0bd7-2150-4061-b52e-df18d4c9092f",
   "metadata": {},
   "outputs": [
    {
     "name": "stdout",
     "output_type": "stream",
     "text": [
      "Started docker container\n",
      "Copied file to docker container\n",
      "Extracted openface features\n",
      "Copied results from docker container to /processed\n",
      "Stopped docker container\n"
     ]
    }
   ],
   "source": [
    "extract_features_video_multi_docker(client, \"video/test_video_two.mp4\", \"test_video_two.log\")"
   ]
  },
  {
   "cell_type": "markdown",
   "id": "a507838d-9b10-45c9-b556-7e6191852a89",
   "metadata": {},
   "source": [
    "The face tracker initially struggels to track the face of the woman on the left side in the video. It does not track the face of the man on the right for the entire video. This could be because the faces are directed away from the camera towards each other (the man's face is less visible than the woman's). This behavior might problematic because in talk shows or debates cameras might view faces from very different angles, althought often alternative camera views might be available."
   ]
  },
  {
   "cell_type": "code",
   "execution_count": 13,
   "id": "d9197d0e-d33d-44b0-8486-e65a5c07f97f",
   "metadata": {},
   "outputs": [],
   "source": [
    "features_two_df = pd.read_csv(\"processed/test_video_two.csv\")"
   ]
  },
  {
   "cell_type": "code",
   "execution_count": 14,
   "id": "a951a4d9-6a12-407e-9a16-c079ba790862",
   "metadata": {},
   "outputs": [
    {
     "name": "stdout",
     "output_type": "stream",
     "text": [
      "     frame   face_id   timestamp   confidence   success   gaze_0_x   gaze_0_y  \\\n",
      "0        1         0        0.00         0.62         0   0.000000   0.000000   \n",
      "1        1         1        0.00         0.03         0   0.000000   0.000000   \n",
      "2        2         0        0.04         0.88         1   0.252523   0.176967   \n",
      "3        2         1        0.04         0.03         0   0.000000   0.000000   \n",
      "4        3         0        0.08         0.03         0   0.000000   0.000000   \n",
      "..     ...       ...         ...          ...       ...        ...        ...   \n",
      "634    544         0       21.72         0.98         1   0.590757   0.366819   \n",
      "635    545         0       21.76         0.98         1   0.585318   0.354208   \n",
      "636    545         1       21.76         0.03         0   0.000000   0.000000   \n",
      "637    546         0       21.80         0.98         1   0.578965   0.350431   \n",
      "638    546         1       21.80         0.03         0   0.000000   0.000000   \n",
      "\n",
      "      gaze_0_z   gaze_1_x   gaze_1_y  ...   AU12_c   AU14_c   AU15_c   AU17_c  \\\n",
      "0     0.000000   0.000000   0.000000  ...      1.0      0.0      0.0      0.0   \n",
      "1     0.000000   0.000000   0.000000  ...      0.0      1.0      1.0      1.0   \n",
      "2    -0.951270   0.121373   0.206547  ...      0.0      0.0      0.0      0.0   \n",
      "3     0.000000   0.000000   0.000000  ...      0.0      1.0      1.0      1.0   \n",
      "4     0.000000   0.000000   0.000000  ...      0.0      0.0      0.0      0.0   \n",
      "..         ...        ...        ...  ...      ...      ...      ...      ...   \n",
      "634  -0.718645   0.468067   0.355521  ...      1.0      0.0      1.0      0.0   \n",
      "635  -0.729342   0.458262   0.344838  ...      1.0      0.0      0.0      0.0   \n",
      "636   0.000000   0.000000   0.000000  ...      0.0      1.0      1.0      1.0   \n",
      "637  -0.736205   0.452244   0.343602  ...      1.0      0.0      1.0      0.0   \n",
      "638   0.000000   0.000000   0.000000  ...      0.0      1.0      1.0      1.0   \n",
      "\n",
      "      AU20_c   AU23_c   AU25_c   AU26_c   AU28_c   AU45_c  \n",
      "0        0.0      1.0      0.0      0.0      1.0      0.0  \n",
      "1        0.0      0.0      0.0      0.0      0.0      1.0  \n",
      "2        0.0      1.0      0.0      0.0      1.0      0.0  \n",
      "3        0.0      0.0      0.0      0.0      0.0      1.0  \n",
      "4        0.0      0.0      0.0      0.0      1.0      0.0  \n",
      "..       ...      ...      ...      ...      ...      ...  \n",
      "634      0.0      0.0      0.0      0.0      1.0      0.0  \n",
      "635      0.0      0.0      0.0      0.0      1.0      0.0  \n",
      "636      0.0      0.0      0.0      0.0      1.0      0.0  \n",
      "637      0.0      0.0      0.0      0.0      1.0      0.0  \n",
      "638      0.0      0.0      0.0      1.0      0.0      0.0  \n",
      "\n",
      "[639 rows x 714 columns]\n"
     ]
    }
   ],
   "source": [
    "print(features_two_df)"
   ]
  },
  {
   "cell_type": "markdown",
   "id": "2ddf3244-e47b-4233-b85e-510611dc8a04",
   "metadata": {},
   "source": [
    "This time, there are two unique values in the `face_id` column. However, for the second face (`face_id = 1`), the column `success` indicates that it could not be successfully tracked."
   ]
  },
  {
   "cell_type": "markdown",
   "id": "634273ac-a355-4721-bc54-8ffd950f0dda",
   "metadata": {},
   "source": [
    "### Multiple Faces in Video"
   ]
  },
  {
   "cell_type": "code",
   "execution_count": 15,
   "id": "e7ffe8f8-575b-499f-aba3-8887bcb1085c",
   "metadata": {},
   "outputs": [
    {
     "name": "stdout",
     "output_type": "stream",
     "text": [
      "File found at video/test_video_multi.mp4\n"
     ]
    }
   ],
   "source": [
    "download_file_url(\"https://www.pexels.com/video/8847713/download/?search_query=political%20debate&tracking_id=fnzpvugz2cj\", \"video/test_video_multi.mp4\")"
   ]
  },
  {
   "cell_type": "code",
   "execution_count": 16,
   "id": "76851452-e5f9-4c7e-ab9d-a27a5333a84a",
   "metadata": {},
   "outputs": [
    {
     "name": "stdout",
     "output_type": "stream",
     "text": [
      "Started docker container\n",
      "Copied file to docker container\n",
      "Extracted openface features\n",
      "Copied results from docker container to /processed\n",
      "Stopped docker container\n"
     ]
    }
   ],
   "source": [
    "extract_features_video_multi_docker(client, \"video/test_video_multi.mp4\", \"test_video_multi.log\")"
   ]
  },
  {
   "cell_type": "markdown",
   "id": "ce295ad5-7d3b-4820-b021-58cffdd68cb2",
   "metadata": {},
   "source": [
    "The faces of all four persons in the video were succesfully tracked (when not covered). All faces are directed towards the camera."
   ]
  },
  {
   "cell_type": "code",
   "execution_count": 17,
   "id": "540d5a91-4bb7-42c5-8c4b-29ee63c76deb",
   "metadata": {},
   "outputs": [],
   "source": [
    "features_multi_df = pd.read_csv(\"processed/test_video_multi.csv\")"
   ]
  },
  {
   "cell_type": "code",
   "execution_count": 18,
   "id": "ed674427-cd68-42fe-b865-6d9e7b630f40",
   "metadata": {},
   "outputs": [
    {
     "name": "stdout",
     "output_type": "stream",
     "text": [
      "      frame   face_id   timestamp   confidence   success   gaze_0_x  \\\n",
      "0         1         0        0.00         0.98         1   0.027142   \n",
      "1         1         1        0.00         0.88         1   0.022368   \n",
      "2         1         2        0.00         0.98         1   0.353438   \n",
      "3         1         3        0.00         0.03         0   0.000000   \n",
      "4         2         0        0.04         0.98         1   0.025669   \n",
      "...     ...       ...         ...          ...       ...        ...   \n",
      "2069    536         3       21.40         0.88         1   0.076024   \n",
      "2070    537         0       21.44         0.98         1   0.087262   \n",
      "2071    537         1       21.44         0.98         1  -0.349506   \n",
      "2072    537         2       21.44         0.98         1   0.320851   \n",
      "2073    537         3       21.44         0.88         1   0.074254   \n",
      "\n",
      "       gaze_0_y   gaze_0_z   gaze_1_x   gaze_1_y  ...   AU12_c   AU14_c  \\\n",
      "0      0.057760  -0.997961  -0.111140   0.053308  ...      0.0      1.0   \n",
      "1      0.241725  -0.970087  -0.098599   0.234926  ...      0.0      0.0   \n",
      "2     -0.035628  -0.934779   0.207186  -0.003752  ...      1.0      0.0   \n",
      "3      0.000000   0.000000   0.000000   0.000000  ...      0.0      0.0   \n",
      "4      0.061963  -0.997748  -0.111974   0.057920  ...      0.0      1.0   \n",
      "...         ...        ...        ...        ...  ...      ...      ...   \n",
      "2069   0.100180  -0.992061  -0.052235   0.099204  ...      1.0      1.0   \n",
      "2070   0.057092  -0.994548  -0.054282   0.058325  ...      0.0      0.0   \n",
      "2071   0.215229  -0.911878  -0.440130   0.221905  ...      1.0      1.0   \n",
      "2072  -0.093318  -0.942521   0.199889  -0.072729  ...      1.0      0.0   \n",
      "2073   0.103924  -0.991809  -0.052527   0.102208  ...      1.0      0.0   \n",
      "\n",
      "       AU15_c   AU17_c   AU20_c   AU23_c   AU25_c   AU26_c   AU28_c   AU45_c  \n",
      "0         1.0      1.0      1.0      1.0      0.0      0.0      1.0      0.0  \n",
      "1         0.0      0.0      1.0      1.0      1.0      1.0      1.0      0.0  \n",
      "2         0.0      0.0      1.0      0.0      0.0      0.0      0.0      0.0  \n",
      "3         0.0      0.0      1.0      1.0      0.0      0.0      0.0      0.0  \n",
      "4         1.0      1.0      1.0      1.0      0.0      0.0      1.0      0.0  \n",
      "...       ...      ...      ...      ...      ...      ...      ...      ...  \n",
      "2069      1.0      0.0      1.0      1.0      1.0      0.0      0.0      0.0  \n",
      "2070      0.0      0.0      0.0      0.0      1.0      1.0      0.0      1.0  \n",
      "2071      1.0      0.0      0.0      0.0      1.0      1.0      0.0      1.0  \n",
      "2072      0.0      0.0      1.0      0.0      1.0      0.0      0.0      0.0  \n",
      "2073      1.0      0.0      1.0      1.0      1.0      0.0      0.0      0.0  \n",
      "\n",
      "[2074 rows x 714 columns]\n"
     ]
    }
   ],
   "source": [
    "print(features_multi_df)"
   ]
  },
  {
   "cell_type": "markdown",
   "id": "57749d0d-862a-42a1-a302-1aa4916f19d8",
   "metadata": {},
   "source": [
    "Now, there are four different `face_id` values that seem to be consistent throughout the video. However, the OpenFace [wiki](https://github.com/TadasBaltrusaitis/OpenFace/wiki/Output-Format) remarks that there is now guarantee for consistency (in particular for longer videos)."
   ]
  }
 ],
 "metadata": {
  "kernelspec": {
   "display_name": "mexca-exploration",
   "language": "python",
   "name": "mexca-exploration"
  },
  "language_info": {
   "codemirror_mode": {
    "name": "ipython",
    "version": 3
   },
   "file_extension": ".py",
   "mimetype": "text/x-python",
   "name": "python",
   "nbconvert_exporter": "python",
   "pygments_lexer": "ipython3",
   "version": "3.9.7"
  }
 },
 "nbformat": 4,
 "nbformat_minor": 5
}
