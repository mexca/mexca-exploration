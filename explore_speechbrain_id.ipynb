{
 "cells": [
  {
   "cell_type": "markdown",
   "id": "08e6f430-6048-4ee0-951b-9edd2158edd9",
   "metadata": {},
   "source": [
    "# Explore SpeechBrain: Speaker Recognition and Diarization\n",
    "\n",
    "This notebook will explore speaker recognition and diarization using the Python library [SpeechBrain](https://speechbrain.github.io/index.html). `SpeechBrain` can be installed with `pip install speechbrain`. To run the notebook for the first time, it must be opened with administrator rights."
   ]
  },
  {
   "cell_type": "code",
   "execution_count": 198,
   "id": "d06cb99d-58b6-4136-a137-58c226adf81c",
   "metadata": {},
   "outputs": [],
   "source": [
    "\"\"\" Explore speechbrain speaker recognition and diarization \"\"\"\n",
    "import matplotlib.pyplot as plt\n",
    "import numpy as np\n",
    "import torch\n",
    "import torchaudio\n",
    "import speechbrain as sb\n",
    "from IPython.display import Audio\n",
    "from sklearn.decomposition import PCA\n",
    "from sklearn.cluster import SpectralClustering\n",
    "from speechbrain.pretrained import EncoderClassifier"
   ]
  },
  {
   "cell_type": "code",
   "execution_count": 171,
   "id": "e5bd1098-0f4a-43c4-ae21-7f74e08f6259",
   "metadata": {},
   "outputs": [],
   "source": [
    "FILENAME_MULTI = \"audio/test_audio_multi.wav\""
   ]
  },
  {
   "cell_type": "code",
   "execution_count": 158,
   "id": "19226687-019e-40ab-b60f-3b81b430fd10",
   "metadata": {},
   "outputs": [],
   "source": [
    "ecapa = EncoderClassifier.from_hparams(source=\"speechbrain/spkrec-ecapa-voxceleb\", savedir=\"./pretrained_models/ecapa\")"
   ]
  },
  {
   "cell_type": "code",
   "execution_count": 183,
   "id": "637c1e08-26f8-4213-bbdf-d77a374240c4",
   "metadata": {},
   "outputs": [],
   "source": [
    "signal, fs = torchaudio.load(FILENAME_MULTI)"
   ]
  },
  {
   "cell_type": "code",
   "execution_count": 80,
   "id": "ae82945a-de08-437a-921c-698e89c5ecde",
   "metadata": {},
   "outputs": [],
   "source": [
    "embedding = ecapa.encode_batch(signal)"
   ]
  },
  {
   "cell_type": "code",
   "execution_count": 12,
   "id": "e6dbf58a-46ad-4213-9e63-09ccdd15f4d2",
   "metadata": {},
   "outputs": [
    {
     "name": "stdout",
     "output_type": "stream",
     "text": [
      "tensor([[[ 16.8061,   3.7904, -31.8081,  -3.8996,  21.3604,  -1.4568,  21.9415,\n",
      "           37.0995,  18.9892,  14.3628,  14.2680,  16.2085,  31.7212, -13.5816,\n",
      "           -1.8984,  26.9492,  -9.9534,  -3.1682,  -8.5193, -31.8493,   4.6140,\n",
      "           -9.1199,  14.7259, -19.7288,  -8.9369, -19.0221,  -4.2089,  -1.4919,\n",
      "           13.5475, -44.4856,   5.1663, -42.9543, -31.1856, -11.2618,   2.7114,\n",
      "            7.0277,  -8.0202,  -9.4207,   5.6019,  36.6441,   3.9869, -23.2233,\n",
      "          -37.1789,   2.8674,  21.2129, -36.8399, -10.8587,  -5.7605,  28.5374,\n",
      "          -25.3712,  14.7203,  -1.8151,  21.4372,  35.9322, -12.7524, -10.0052,\n",
      "          -17.4756,  26.7686, -16.7406,   7.0297,  47.4100, -18.5490, -39.5590,\n",
      "           -4.3086,   4.2101,  19.1565,  34.4723, -11.8187,  18.5879, -17.0558,\n",
      "            6.8274,   3.5517,   0.6956,  -8.8150, -10.8214,   2.3580, -19.3685,\n",
      "            6.2454,  11.3034,   5.1969,   8.3809,  14.0468,  14.6084,  -7.0446,\n",
      "          -16.4095, -15.6039, -30.0881,   3.4798,  -6.7136,   0.3098,   4.6633,\n",
      "           26.5399, -12.0121,  -2.2419, -14.9841,  -0.4299,  25.8449,  17.0679,\n",
      "            4.0470,  -1.6317, -21.8825,   5.1688,  20.3953,  -4.9968,  25.0012,\n",
      "          -47.9848,  55.7680,  -0.0664, -22.2614,   1.4664,   0.1497,  -3.0422,\n",
      "           -7.2931,   9.4564,   2.6236, -25.8252,  16.4649, -47.1010,   5.0058,\n",
      "          -14.1812, -11.6176,  20.7088, -17.2121, -10.1213,  22.5838,   8.2726,\n",
      "          -58.7455,  -7.0973,   1.1939,  -5.6419,  18.8471,  27.7206,  -5.7641,\n",
      "           11.7699,  14.9401,  10.7952,  26.9774,   8.1455, -19.2153,   4.8540,\n",
      "           -3.1312,   9.3913,  35.7629,   3.7980,   3.1590, -19.4375,   2.3577,\n",
      "            7.9867, -26.7095,  -2.9349,   7.6584, -15.5656,   1.2554,  -9.4492,\n",
      "           41.4436, -27.7615, -33.0157,  27.2526,  -5.7564, -24.1724,   3.2538,\n",
      "           -9.4504,  10.3295,  -5.5957,   0.3466, -12.5362,  -3.5824,   9.8131,\n",
      "           16.8966,  47.8796,   8.5259, -52.2847, -12.5361, -23.5524,  38.9526,\n",
      "            7.6613,  19.4125,  33.4871,  -7.5973,  11.4632,  16.4447,  20.6445,\n",
      "          -14.7897,  12.6718,  10.5182,  15.5583,  -8.0480,  -0.5371,  16.5642,\n",
      "           30.2245,  -9.3524,  13.4331]]])\n"
     ]
    }
   ],
   "source": [
    "print(embedding)"
   ]
  },
  {
   "cell_type": "code",
   "execution_count": 145,
   "id": "81ac2010-492a-4b30-8731-2aa94f3feca3",
   "metadata": {},
   "outputs": [
    {
     "data": {
      "text/plain": [
       "(tensor([[ 0.0091, -0.0386,  0.1591,  ..., -0.0717,  0.0323, -0.0811]]),\n",
       " tensor([0.2787]),\n",
       " tensor([1771]),\n",
       " ['id10419'])"
      ]
     },
     "execution_count": 145,
     "metadata": {},
     "output_type": "execute_result"
    }
   ],
   "source": [
    "ecapa.classify_batch(signal)"
   ]
  },
  {
   "cell_type": "code",
   "execution_count": 68,
   "id": "b2f807aa-ec43-4077-9cad-986c7425a236",
   "metadata": {},
   "outputs": [
    {
     "data": {
      "text/plain": [
       "torch.Size([1, 1440000])"
      ]
     },
     "execution_count": 68,
     "metadata": {},
     "output_type": "execute_result"
    }
   ],
   "source": [
    "signal.shape"
   ]
  },
  {
   "cell_type": "code",
   "execution_count": 36,
   "id": "f42b1ad9-d457-40c4-8d5d-371b276a4452",
   "metadata": {},
   "outputs": [
    {
     "data": {
      "text/plain": [
       "torch.Size([1, 1440000])"
      ]
     },
     "execution_count": 36,
     "metadata": {},
     "output_type": "execute_result"
    }
   ],
   "source": [
    "signal.shape"
   ]
  },
  {
   "cell_type": "code",
   "execution_count": 184,
   "id": "b04e700c-84ab-47e2-8d7b-424fe2dbfbe9",
   "metadata": {},
   "outputs": [],
   "source": [
    "def embedd_signal_batch(signal, batch_size, embedder):\n",
    "    batches = signal.squeeze().split(batch_size)\n",
    "    \n",
    "    embeddings = []\n",
    "    \n",
    "    for batch in batches:\n",
    "        batch_reshaped = batch.reshape(1, batch.shape[0])\n",
    "        embeddings.append(embedder.encode_batch(batch_reshaped)[0, 0].numpy())\n",
    "         \n",
    "    return embeddings"
   ]
  },
  {
   "cell_type": "code",
   "execution_count": 185,
   "id": "2308fc9d-d8fe-4f25-bfda-e2479d435642",
   "metadata": {},
   "outputs": [],
   "source": [
    "embeddings = embedd_signal_batch(signal, 8000, ecapa)"
   ]
  },
  {
   "cell_type": "code",
   "execution_count": 186,
   "id": "f670ee25-09be-4abb-9b5d-1ceb0f9d68ef",
   "metadata": {},
   "outputs": [],
   "source": [
    "def calc_principal_components(embeddings, n_components=2):\n",
    "    pca = PCA(n_components=n_components)\n",
    "    principal_components = pca.fit_transform(np.array(embeddings))\n",
    "    \n",
    "    return principal_components"
   ]
  },
  {
   "cell_type": "code",
   "execution_count": 187,
   "id": "2051cc12-3cfc-4fcb-a3a3-1efb33d74308",
   "metadata": {},
   "outputs": [],
   "source": [
    "principal_components = calc_principal_components(embeddings)"
   ]
  },
  {
   "cell_type": "code",
   "execution_count": 188,
   "id": "e7052c96-7c08-4116-824d-d66b298bb407",
   "metadata": {},
   "outputs": [
    {
     "data": {
      "image/png": "[encoded data removed]",
      "text/plain": [
       "<Figure size 432x288 with 1 Axes>"
      ]
     },
     "metadata": {
      "needs_background": "light"
     },
     "output_type": "display_data"
    }
   ],
   "source": [
    "fig, ax = plt.subplots()\n",
    "ax.scatter(principal_components[:, 0], principal_components[:, 1])\n",
    "\n",
    "plt.xlabel(\"Principal Component 1\")\n",
    "plt.ylabel(\"Principal Component 2\")\n",
    "\n",
    "plt.show()"
   ]
  },
  {
   "cell_type": "code",
   "execution_count": 189,
   "id": "09711b2f-1080-4ede-aea0-73565c21d192",
   "metadata": {},
   "outputs": [],
   "source": [
    "kmeans = SpectralClustering(3)\n",
    "predictions = kmeans.fit(embeddings)"
   ]
  },
  {
   "cell_type": "code",
   "execution_count": 190,
   "id": "7ee47653-e2ec-4a48-99f4-5d927e7eb507",
   "metadata": {},
   "outputs": [
    {
     "data": {
      "image/png": "[encoded data removed]",
      "text/plain": [
       "<Figure size 432x288 with 1 Axes>"
      ]
     },
     "metadata": {
      "needs_background": "light"
     },
     "output_type": "display_data"
    }
   ],
   "source": [
    "fig, ax = plt.subplots()\n",
    "ax.scatter(principal_components[:, 0], principal_components[:, 1], c=predictions.labels_)\n",
    "\n",
    "plt.xlabel(\"Principal Component 1\")\n",
    "plt.ylabel(\"Principal Component 2\")\n",
    "\n",
    "plt.show()"
   ]
  },
  {
   "cell_type": "code",
   "execution_count": 122,
   "id": "d49054bc-45ef-45c2-8d80-4d53015a812b",
   "metadata": {},
   "outputs": [],
   "source": [
    "def classify_signal_batch(signal, batch_size, classifier):\n",
    "    batches = signal.squeeze().split(batch_size)\n",
    "    \n",
    "    predictions = []\n",
    "    \n",
    "    for batch in batches:\n",
    "        batch_reshaped = batch.reshape(1, batch.shape[0])\n",
    "        predictions.append(classifier.classify_batch(batch_reshaped)[3][0])\n",
    "    \n",
    "    return predictions"
   ]
  },
  {
   "cell_type": "code",
   "execution_count": 123,
   "id": "e93ee360-f408-4c4e-a728-aa2f6c818ca4",
   "metadata": {},
   "outputs": [],
   "source": [
    "predictions = classify_signal_batch(signal, 8000, ecapa)"
   ]
  },
  {
   "cell_type": "code",
   "execution_count": 134,
   "id": "24acdf3d-c685-4a25-9fe5-466b66a2235c",
   "metadata": {},
   "outputs": [
    {
     "name": "stdout",
     "output_type": "stream",
     "text": [
      "{'id08068', 'id08783', 'id08122', 'id00902', 'id00732', 'id03748', 'id00818', 'id01160', 'id05985', 'id08710', 'id06280', 'id02017', 'id08331', 'id04489', 'id07801', 'id07647', 'id04894', 'id06133', 'id10944', 'id11210', 'id05694', 'id05121', 'id04525', 'id01058', 'id06481', 'id01735', 'id08106', 'id00981', 'id06990', 'id08323', 'id07719', 'id06867', 'id07682', 'id06131', 'id10022', 'id07775', 'id03292', 'id07928', 'id06617', 'id10858', 'id11101', 'id01605', 'id03326', 'id10361', 'id08160', 'id08739', 'id06553', 'id00051', 'id01969', 'id04508', 'id06972', 'id00775', 'id07097', 'id03902', 'id02157', 'id06723', 'id04491', 'id02260', 'id07776', 'id06500', 'id04116', 'id01960', 'id08358', 'id05693', 'id04199', 'id04192', 'id03483', 'id03868', 'id04606', 'id02684', 'id08624', 'id07517', 'id11087', 'id10941', 'id10419', 'id04842', 'id09016', 'id03436', 'id03147', 'id05135', 'id08114', 'id00028', 'id02395', 'id02496', 'id06183', 'id09040', 'id07392', 'id06333', 'id01063', 'id06267', 'id07809', 'id08502', 'id07497', 'id04257', 'id03965', 'id01280', 'id08187', 'id06761', 'id03179', 'id04015', 'id04163', 'id07296', 'id04479', 'id02824', 'id00785', 'id06651', 'id03961', 'id01067', 'id03643', 'id11223', 'id03352', 'id10114', 'id07276', 'id03236', 'id10993', 'id04714', 'id08593', 'id06672', 'id08421', 'id03652', 'id05801'}\n"
     ]
    }
   ],
   "source": [
    "print(set(predictions))"
   ]
  },
  {
   "cell_type": "code",
   "execution_count": 152,
   "id": "f25b86be-c57e-4161-b828-9040bc95ecb9",
   "metadata": {},
   "outputs": [
    {
     "data": {
      "text/plain": [
       "odict_keys(['compute_features', 'mean_var_norm', 'embedding_model', 'mean_var_norm_emb', 'classifier'])"
      ]
     },
     "execution_count": 152,
     "metadata": {},
     "output_type": "execute_result"
    }
   ],
   "source": [
    "ecapa.mods.keys()"
   ]
  },
  {
   "cell_type": "code",
   "execution_count": 153,
   "id": "5d1a5f1d-4d72-4d2b-9033-476e59ace506",
   "metadata": {},
   "outputs": [],
   "source": [
    "class ClassifierFineTune(sb.Brain):\n",
    "\n",
    "    def on_stage_start(self, stage, epoch):\n",
    "        if stage == sb.Stage.TRAIN:\n",
    "            for module in [self.modules.classifier]:\n",
    "                for p in module.parameters():\n",
    "                    p.requires_grad = True\n",
    "                    \n",
    "    def compute_forward(self, batch, stage):\n",
    "        \"\"\"Runs all the computation of that transforms the input into the\n",
    "        output probabilities over the N classes.\n",
    "        Arguments\n",
    "        ---------\n",
    "        batch : PaddedBatch\n",
    "            This batch object contains all the relevant tensors for computation.\n",
    "        stage : sb.Stage\n",
    "            One of sb.Stage.TRAIN, sb.Stage.VALID, or sb.Stage.TEST.\n",
    "        Returns\n",
    "        -------\n",
    "        predictions : Tensor\n",
    "            Tensor that contains the posterior probabilities over the N classes.\n",
    "        \"\"\"\n",
    "\n",
    "        # We first move the batch to the appropriate device.\n",
    "        batch = batch.to(self.device)\n",
    "\n",
    "        # Compute features, embeddings, and predictions\n",
    "        feats, lens = self.prepare_features(batch.sig, stage)\n",
    "        embeddings = self.modules.embedding_model(feats, lens)\n",
    "        predictions = self.modules.classifier(embeddings)\n",
    "\n",
    "        return predictions\n",
    "    \n",
    "    def compute_objectives(self, predictions, batch, stage):\n",
    "        \"\"\"Computes the loss given the predicted and targeted outputs.\n",
    "        Arguments\n",
    "        ---------\n",
    "        predictions : tensor\n",
    "            The output tensor from `compute_forward`.\n",
    "        batch : PaddedBatch\n",
    "            This batch object contains all the relevant tensors for computation.\n",
    "        stage : sb.Stage\n",
    "            One of sb.Stage.TRAIN, sb.Stage.VALID, or sb.Stage.TEST.\n",
    "        Returns\n",
    "        -------\n",
    "        loss : torch.Tensor\n",
    "            A one-element tensor used for backpropagating the gradient.\n",
    "        \"\"\"\n",
    "\n",
    "        _, lens = batch.sig\n",
    "        spkid, _ = batch.spk_id_encoded\n",
    "\n",
    "        # Concatenate labels (due to data augmentation)\n",
    "        if stage == sb.Stage.TRAIN and hasattr(self.modules, \"env_corrupt\"):\n",
    "            spkid = torch.cat([spkid, spkid], dim=0)\n",
    "            lens = torch.cat([lens, lens])\n",
    "\n",
    "        # Compute the cost function\n",
    "        loss = sb.nnet.losses.nll_loss(predictions, spkid, lens)\n",
    "\n",
    "        # Append this batch of losses to the loss metric for easy\n",
    "        self.loss_metric.append(\n",
    "            batch.id, predictions, spkid, lens, reduction=\"batch\"\n",
    "        )\n",
    "\n",
    "        # Compute classification error at test time\n",
    "        if stage != sb.Stage.TRAIN:\n",
    "            self.error_metrics.append(batch.id, predictions, spkid, lens)\n",
    "\n",
    "        return loss\n",
    "    \n",
    "    def fit_batch(self, batch):\n",
    "        \"\"\"Train the parameters given a single batch in input\"\"\"\n",
    "        predictions = self.compute_forward(batch, sb.Stage.TRAIN)\n",
    "        loss = self.compute_objectives(predictions, batch, sb.Stage.TRAIN)\n",
    "        loss.backward()\n",
    "        if self.check_gradients(loss):\n",
    "            self.optimizer.step()\n",
    "        self.optimizer.zero_grad()\n",
    "        return loss.detach()"
   ]
  },
  {
   "cell_type": "code",
   "execution_count": 156,
   "id": "45c9cdf5-e8c3-45fe-8617-fce95fc4f985",
   "metadata": {},
   "outputs": [],
   "source": [
    "modules = {\n",
    "    \"compute_features\": ecapa.mods.compute_features,\n",
    "    \"mean_var_norm\": ecapa.mods.mean_var_norm,\n",
    "    \"embedding_model\": ecapa.mods.embedding_model,\n",
    "    \"mean_var_norm_emb\": ecapa.mods.mean_var_norm_emb,\n",
    "    \"classifier\": ecapa.mods.classifier\n",
    "}\n",
    "\n",
    "brain = ClassifierFineTune(modules)"
   ]
  },
  {
   "cell_type": "code",
   "execution_count": 157,
   "id": "9109c31e-ffb3-4752-a532-9325e5a73cf9",
   "metadata": {},
   "outputs": [
    {
     "data": {
      "text/plain": [
       "<__main__.ClassifierFineTune at 0x20b14a18af0>"
      ]
     },
     "execution_count": 157,
     "metadata": {},
     "output_type": "execute_result"
    }
   ],
   "source": [
    "brain"
   ]
  }
 ],
 "metadata": {
  "kernelspec": {
   "display_name": "mexca-exploration",
   "language": "python",
   "name": "mexca-exploration"
  },
  "language_info": {
   "codemirror_mode": {
    "name": "ipython",
    "version": 3
   },
   "file_extension": ".py",
   "mimetype": "text/x-python",
   "name": "python",
   "nbconvert_exporter": "python",
   "pygments_lexer": "ipython3",
   "version": "3.9.7"
  }
 },
 "nbformat": 4,
 "nbformat_minor": 5
}
